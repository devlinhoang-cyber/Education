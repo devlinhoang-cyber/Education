import pandas as pd
import numpy as np
import os
import matplotlib.pyplot as plt
import statsmodels.api as sm
import statsmodels.formula.api as smf
from pathlib import Path

#Read file
edgap_file= 'https://raw.githubusercontent.com/devlinhoang-cyber/Education/3ddfc15f5a0e7a3534b66fabf30ea1718785d7e9/Data/EdGap_data.xlsx'
ccd_file= 'https://raw.githubusercontent.com/devlinhoang-cyber/Education/3ddfc15f5a0e7a3534b66fabf30ea1718785d7e9/Data/ccd_sch_029_1617_w_1a_11212017.csv'

#Load file
edgap= pd.read_excel(edgap_file)
ccd= pd.read_csv(ccd_file, low_memory= False)
print('Edgap', edgap.shape)
print('CCD', ccd.shape)

edgap.head()
ccd.head()
